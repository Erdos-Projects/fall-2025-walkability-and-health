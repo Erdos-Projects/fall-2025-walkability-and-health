{
 "cells": [
  {
   "cell_type": "markdown",
   "id": "768a98a6",
   "metadata": {},
   "source": [
    "# Train/Test Split\n",
    "\n",
    "Census tracts in the same county are highly correlated since they may share the same transit system and have similar walkability policy. To avoid geographic leakage, we use GroupShuffleSplit to make sure we split our data into a training set and a testing set that countain disjoint county codes."
   ]
  },
  {
   "cell_type": "markdown",
   "id": "a4b975fc",
   "metadata": {},
   "source": [
    "## Setup"
   ]
  },
  {
   "cell_type": "code",
   "execution_count": null,
   "id": "01875eba",
   "metadata": {},
   "outputs": [],
   "source": [
    "# Setup\n",
    "\n",
    "import numpy as np\n",
    "import pandas as pd"
   ]
  },
  {
   "cell_type": "markdown",
   "id": "23918bc6",
   "metadata": {},
   "source": [
    "## Load Data"
   ]
  },
  {
   "cell_type": "code",
   "execution_count": 11,
   "id": "ab3c92d7",
   "metadata": {},
   "outputs": [
    {
     "data": {
      "text/plain": [
       "Index(['census_tract', 'StCoFIPS2019', 'StAbbr', 'walkability_index',\n",
       "       'Pop2018', 'HU2018', 'HH2018', 'employment_mix',\n",
       "       'employment_residential_mix', 'intersection_density',\n",
       "       'transit_accessibility', 'employment_mix_ranked',\n",
       "       'employment_residential_mix_ranked', 'intersection_density_ranked',\n",
       "       'transit_accessibility_ranked', 'median_income', 'percent_unemployed',\n",
       "       'percent_below_poverty', 'percent_bachelor_and_higher',\n",
       "       'percent_over_65', 'percent_commute_car', 'percent_commute_transit',\n",
       "       'percent_white', 'percent_black', 'percent_native_american',\n",
       "       'percent_asian', 'percent_pacific_islander', 'statedesc', 'countyname',\n",
       "       'total_population', 'arthritis_crudeprev', 'arthritis_crude95ci',\n",
       "       'high_blood_pressure_prevalence', 'high_blood_pressure_95ci',\n",
       "       'cancer_prevalence', 'cancer_95ci', 'current_asthma_prevalence',\n",
       "       'current_asthma_95ci', 'coronary_heart_disease_prevalence',\n",
       "       'coronary_heart_disease_95ci',\n",
       "       'chronic_obstructive_pulmonary_disease_prevalence',\n",
       "       'chronic_obstructive_pulmonary_disease_95ci', 'depression_prevalence',\n",
       "       'depression_95ci', 'diabetes_prevalence', 'diabetes_95ci',\n",
       "       'high_cholesterol_prevalence', 'high_cholesterol_95ci',\n",
       "       'kidney_disease_prevalence', 'kidney_disease_95ci',\n",
       "       'obesity_prevalence', 'obesity_95ci', 'phlth_crudeprev',\n",
       "       'phlth_crude95ci', 'stroke_prevalence', 'stroke_95ci', 'geolocation'],\n",
       "      dtype='object')"
      ]
     },
     "execution_count": 11,
     "metadata": {},
     "output_type": "execute_result"
    }
   ],
   "source": [
    "# load the clean datasets\n",
    "\n",
    "df = pd.read_csv(\"clean_data.csv\")\n",
    "df.sample()\n",
    "df.columns"
   ]
  },
  {
   "cell_type": "markdown",
   "id": "ccbab324",
   "metadata": {},
   "source": [
    "## GroupShuffleSplit"
   ]
  },
  {
   "cell_type": "code",
   "execution_count": 14,
   "id": "5cbb78f7",
   "metadata": {},
   "outputs": [
    {
     "name": "stdout",
     "output_type": "stream",
     "text": [
      "Saved:\n",
      "  train_by_county.csv  -> 52586 rows, 2496 counties\n",
      "  test_by_county.csv   -> 17572 rows, 624 counties\n"
     ]
    }
   ],
   "source": [
    "from sklearn.model_selection import GroupShuffleSplit\n",
    "\n",
    "# Configuration\n",
    "county_col = \"StCoFIPS2019\"\n",
    "test_size  = 0.20\n",
    "seed       = 123\n",
    "\n",
    "# One split grouped by county\n",
    "gss = GroupShuffleSplit(n_splits=1, test_size=test_size, random_state=seed)\n",
    "train_idx, test_idx = next(gss.split(df, groups=df[county_col])) # get the first (and only) split\n",
    "\n",
    "df_train = df.iloc[train_idx].copy()\n",
    "df_test  = df.iloc[test_idx].copy()\n",
    "\n",
    "# 3) save for your team\n",
    "df_train.to_csv(\"data_train.csv\", index=False)\n",
    "df_test.to_csv(\"data_test.csv\", index=False)\n",
    "\n",
    "print(\"Saved:\")\n",
    "print(\"  train_by_county.csv  ->\", len(df_train), \"rows,\", df_train[county_col].nunique(), \"counties\")\n",
    "print(\"  test_by_county.csv   ->\", len(df_test),  \"rows,\", df_test[county_col].nunique(),  \"counties\")\n",
    "\n",
    "# sense check\n",
    "assert set(df_train[county_col]).isdisjoint(set(df_test[county_col]))"
   ]
  }
 ],
 "metadata": {
  "kernelspec": {
   "display_name": "erdos_ds_environment",
   "language": "python",
   "name": "python3"
  },
  "language_info": {
   "codemirror_mode": {
    "name": "ipython",
    "version": 3
   },
   "file_extension": ".py",
   "mimetype": "text/x-python",
   "name": "python",
   "nbconvert_exporter": "python",
   "pygments_lexer": "ipython3",
   "version": "3.12.11"
  }
 },
 "nbformat": 4,
 "nbformat_minor": 5
}
