{
 "cells": [
  {
   "cell_type": "code",
   "execution_count": 33,
   "id": "38ee026b",
   "metadata": {},
   "outputs": [],
   "source": [
    "import pandas as pd\n",
    "\n",
    "# load all the datasets\n",
    "\n",
    "nwi = pd.read_csv(\"WalkabilityIndex_Tract_2019.csv\")\n",
    "acs = pd.read_csv(\"national_acs_data_2019.csv\")\n",
    "health_outcomes = pd.read_csv(\"hlthout_2019.csv\")"
   ]
  },
  {
   "cell_type": "code",
   "execution_count": 34,
   "id": "65658e83",
   "metadata": {},
   "outputs": [
    {
     "name": "stdout",
     "output_type": "stream",
     "text": [
      "(74001, 16)\n",
      "(72877, 14)\n",
      "(72337, 33)\n"
     ]
    }
   ],
   "source": [
    "# Look at all the datafframes shapes\n",
    "\n",
    "print(nwi .shape)\n",
    "print(acs.shape)\n",
    "print(health_outcomes.shape)"
   ]
  },
  {
   "cell_type": "code",
   "execution_count": 35,
   "id": "ee41f013",
   "metadata": {},
   "outputs": [
    {
     "name": "stdout",
     "output_type": "stream",
     "text": [
      "Index(['TractID2019', 'TractID2010', 'StCoFIPS2019', 'StAbbr', 'NatWalkInd',\n",
      "       'Pop2018', 'HU2018', 'HH2018', 'D2A_EPHHM', 'D2B_E8MIXA', 'D3B', 'D4A',\n",
      "       'D2A_Ranked', 'D2B_Ranked', 'D3B_Ranked', 'D4A_Ranked'],\n",
      "      dtype='object')\n"
     ]
    },
    {
     "data": {
      "text/html": [
       "<div>\n",
       "<style scoped>\n",
       "    .dataframe tbody tr th:only-of-type {\n",
       "        vertical-align: middle;\n",
       "    }\n",
       "\n",
       "    .dataframe tbody tr th {\n",
       "        vertical-align: top;\n",
       "    }\n",
       "\n",
       "    .dataframe thead th {\n",
       "        text-align: right;\n",
       "    }\n",
       "</style>\n",
       "<table border=\"1\" class=\"dataframe\">\n",
       "  <thead>\n",
       "    <tr style=\"text-align: right;\">\n",
       "      <th></th>\n",
       "      <th>TractID2019</th>\n",
       "      <th>TractID2010</th>\n",
       "      <th>StCoFIPS2019</th>\n",
       "      <th>StAbbr</th>\n",
       "      <th>NatWalkInd</th>\n",
       "      <th>Pop2018</th>\n",
       "      <th>HU2018</th>\n",
       "      <th>HH2018</th>\n",
       "      <th>D2A_EPHHM</th>\n",
       "      <th>D2B_E8MIXA</th>\n",
       "      <th>D3B</th>\n",
       "      <th>D4A</th>\n",
       "      <th>D2A_Ranked</th>\n",
       "      <th>D2B_Ranked</th>\n",
       "      <th>D3B_Ranked</th>\n",
       "      <th>D4A_Ranked</th>\n",
       "    </tr>\n",
       "  </thead>\n",
       "  <tbody>\n",
       "    <tr>\n",
       "      <th>0</th>\n",
       "      <td>1001020100</td>\n",
       "      <td>1001020100</td>\n",
       "      <td>1001</td>\n",
       "      <td>AL</td>\n",
       "      <td>2.333333</td>\n",
       "      <td>1923</td>\n",
       "      <td>779</td>\n",
       "      <td>765</td>\n",
       "      <td>0.189174</td>\n",
       "      <td>0.153064</td>\n",
       "      <td>14.604598</td>\n",
       "      <td>-99999.0</td>\n",
       "      <td>1</td>\n",
       "      <td>1</td>\n",
       "      <td>5</td>\n",
       "      <td>1</td>\n",
       "    </tr>\n",
       "    <tr>\n",
       "      <th>1</th>\n",
       "      <td>1001020200</td>\n",
       "      <td>1001020200</td>\n",
       "      <td>1001</td>\n",
       "      <td>AL</td>\n",
       "      <td>8.833333</td>\n",
       "      <td>2028</td>\n",
       "      <td>852</td>\n",
       "      <td>719</td>\n",
       "      <td>0.803385</td>\n",
       "      <td>0.573766</td>\n",
       "      <td>57.152279</td>\n",
       "      <td>-99999.0</td>\n",
       "      <td>20</td>\n",
       "      <td>11</td>\n",
       "      <td>10</td>\n",
       "      <td>1</td>\n",
       "    </tr>\n",
       "    <tr>\n",
       "      <th>2</th>\n",
       "      <td>1001020300</td>\n",
       "      <td>1001020300</td>\n",
       "      <td>1001</td>\n",
       "      <td>AL</td>\n",
       "      <td>5.166667</td>\n",
       "      <td>3476</td>\n",
       "      <td>1397</td>\n",
       "      <td>1296</td>\n",
       "      <td>0.390436</td>\n",
       "      <td>0.537381</td>\n",
       "      <td>33.036031</td>\n",
       "      <td>-99999.0</td>\n",
       "      <td>6</td>\n",
       "      <td>9</td>\n",
       "      <td>7</td>\n",
       "      <td>1</td>\n",
       "    </tr>\n",
       "  </tbody>\n",
       "</table>\n",
       "</div>"
      ],
      "text/plain": [
       "   TractID2019  TractID2010  StCoFIPS2019 StAbbr  NatWalkInd  Pop2018  HU2018  \\\n",
       "0   1001020100   1001020100          1001     AL    2.333333     1923     779   \n",
       "1   1001020200   1001020200          1001     AL    8.833333     2028     852   \n",
       "2   1001020300   1001020300          1001     AL    5.166667     3476    1397   \n",
       "\n",
       "   HH2018  D2A_EPHHM  D2B_E8MIXA        D3B      D4A  D2A_Ranked  D2B_Ranked  \\\n",
       "0     765   0.189174    0.153064  14.604598 -99999.0           1           1   \n",
       "1     719   0.803385    0.573766  57.152279 -99999.0          20          11   \n",
       "2    1296   0.390436    0.537381  33.036031 -99999.0           6           9   \n",
       "\n",
       "   D3B_Ranked  D4A_Ranked  \n",
       "0           5           1  \n",
       "1          10           1  \n",
       "2           7           1  "
      ]
     },
     "execution_count": 35,
     "metadata": {},
     "output_type": "execute_result"
    }
   ],
   "source": [
    "# loook at columns and first few rows of each dataframe\n",
    "\n",
    "nwi_columns = nwi.columns\n",
    "print(nwi_columns)\n",
    "nwi.head(3)"
   ]
  },
  {
   "cell_type": "code",
   "execution_count": 36,
   "id": "0946c3a4",
   "metadata": {},
   "outputs": [
    {
     "name": "stdout",
     "output_type": "stream",
     "text": [
      "Index(['tractfips', 'countyfips', 'stateabbr', 'statedesc', 'countyname',\n",
      "       'totalpopulation', 'arthritis_crudeprev', 'arthritis_crude95ci',\n",
      "       'bphigh_crudeprev', 'bphigh_crude95ci', 'cancer_crudeprev',\n",
      "       'cancer_crude95ci', 'casthma_crudeprev', 'casthma_crude95ci',\n",
      "       'chd_crudeprev', 'chd_crude95ci', 'copd_crudeprev', 'copd_crude95ci',\n",
      "       'depression_crudeprev', 'depression_crude95ci', 'diabetes_crudeprev',\n",
      "       'diabetes_crude95ci', 'highchol_crudeprev', 'highchol_crude95ci',\n",
      "       'kidney_crudeprev', 'kidney_crude95ci', 'obesity_crudeprev',\n",
      "       'obesity_crude95ci', 'phlth_crudeprev', 'phlth_crude95ci',\n",
      "       'stroke_crudeprev', 'stroke_crude95ci', 'geolocation'],\n",
      "      dtype='object')\n"
     ]
    },
    {
     "data": {
      "text/html": [
       "<div>\n",
       "<style scoped>\n",
       "    .dataframe tbody tr th:only-of-type {\n",
       "        vertical-align: middle;\n",
       "    }\n",
       "\n",
       "    .dataframe tbody tr th {\n",
       "        vertical-align: top;\n",
       "    }\n",
       "\n",
       "    .dataframe thead th {\n",
       "        text-align: right;\n",
       "    }\n",
       "</style>\n",
       "<table border=\"1\" class=\"dataframe\">\n",
       "  <thead>\n",
       "    <tr style=\"text-align: right;\">\n",
       "      <th></th>\n",
       "      <th>tractfips</th>\n",
       "      <th>countyfips</th>\n",
       "      <th>stateabbr</th>\n",
       "      <th>statedesc</th>\n",
       "      <th>countyname</th>\n",
       "      <th>totalpopulation</th>\n",
       "      <th>arthritis_crudeprev</th>\n",
       "      <th>arthritis_crude95ci</th>\n",
       "      <th>bphigh_crudeprev</th>\n",
       "      <th>bphigh_crude95ci</th>\n",
       "      <th>...</th>\n",
       "      <th>highchol_crude95ci</th>\n",
       "      <th>kidney_crudeprev</th>\n",
       "      <th>kidney_crude95ci</th>\n",
       "      <th>obesity_crudeprev</th>\n",
       "      <th>obesity_crude95ci</th>\n",
       "      <th>phlth_crudeprev</th>\n",
       "      <th>phlth_crude95ci</th>\n",
       "      <th>stroke_crudeprev</th>\n",
       "      <th>stroke_crude95ci</th>\n",
       "      <th>geolocation</th>\n",
       "    </tr>\n",
       "  </thead>\n",
       "  <tbody>\n",
       "    <tr>\n",
       "      <th>219</th>\n",
       "      <td>1001020100</td>\n",
       "      <td>1001</td>\n",
       "      <td>AL</td>\n",
       "      <td>Alabama</td>\n",
       "      <td>Autauga</td>\n",
       "      <td>1912</td>\n",
       "      <td>31.8</td>\n",
       "      <td>(30.5, 33.1)</td>\n",
       "      <td>38.8</td>\n",
       "      <td>(37.3, 40.2)</td>\n",
       "      <td>...</td>\n",
       "      <td>(34.5, 36.7)</td>\n",
       "      <td>2.8</td>\n",
       "      <td>( 2.6,  3.0)</td>\n",
       "      <td>34.9</td>\n",
       "      <td>(33.4, 36.5)</td>\n",
       "      <td>15.0</td>\n",
       "      <td>(13.5, 16.6)</td>\n",
       "      <td>3.5</td>\n",
       "      <td>( 3.1,  3.9)</td>\n",
       "      <td>POINT (-86.49001486 32.47718251)</td>\n",
       "    </tr>\n",
       "    <tr>\n",
       "      <th>2100</th>\n",
       "      <td>1001020200</td>\n",
       "      <td>1001</td>\n",
       "      <td>AL</td>\n",
       "      <td>Alabama</td>\n",
       "      <td>Autauga</td>\n",
       "      <td>2170</td>\n",
       "      <td>30.5</td>\n",
       "      <td>(29.4, 31.5)</td>\n",
       "      <td>43.6</td>\n",
       "      <td>(42.3, 44.7)</td>\n",
       "      <td>...</td>\n",
       "      <td>(31.8, 33.6)</td>\n",
       "      <td>3.2</td>\n",
       "      <td>( 3.1,  3.4)</td>\n",
       "      <td>41.3</td>\n",
       "      <td>(39.9, 42.6)</td>\n",
       "      <td>15.9</td>\n",
       "      <td>(14.5, 17.3)</td>\n",
       "      <td>4.3</td>\n",
       "      <td>( 3.9,  4.7)</td>\n",
       "      <td>POINT (-86.47338874 32.47425254)</td>\n",
       "    </tr>\n",
       "    <tr>\n",
       "      <th>3946</th>\n",
       "      <td>1001020300</td>\n",
       "      <td>1001</td>\n",
       "      <td>AL</td>\n",
       "      <td>Alabama</td>\n",
       "      <td>Autauga</td>\n",
       "      <td>3373</td>\n",
       "      <td>31.7</td>\n",
       "      <td>(30.5, 32.8)</td>\n",
       "      <td>39.6</td>\n",
       "      <td>(38.2, 40.8)</td>\n",
       "      <td>...</td>\n",
       "      <td>(34.0, 35.9)</td>\n",
       "      <td>2.9</td>\n",
       "      <td>( 2.8,  3.1)</td>\n",
       "      <td>35.7</td>\n",
       "      <td>(34.2, 37.0)</td>\n",
       "      <td>15.3</td>\n",
       "      <td>(13.9, 16.8)</td>\n",
       "      <td>3.7</td>\n",
       "      <td>( 3.4,  4.1)</td>\n",
       "      <td>POINT (-86.4602024 32.47543618)</td>\n",
       "    </tr>\n",
       "  </tbody>\n",
       "</table>\n",
       "<p>3 rows × 33 columns</p>\n",
       "</div>"
      ],
      "text/plain": [
       "       tractfips  countyfips stateabbr statedesc countyname  totalpopulation  \\\n",
       "219   1001020100        1001        AL   Alabama    Autauga             1912   \n",
       "2100  1001020200        1001        AL   Alabama    Autauga             2170   \n",
       "3946  1001020300        1001        AL   Alabama    Autauga             3373   \n",
       "\n",
       "      arthritis_crudeprev arthritis_crude95ci  bphigh_crudeprev  \\\n",
       "219                  31.8        (30.5, 33.1)              38.8   \n",
       "2100                 30.5        (29.4, 31.5)              43.6   \n",
       "3946                 31.7        (30.5, 32.8)              39.6   \n",
       "\n",
       "     bphigh_crude95ci  ...  highchol_crude95ci kidney_crudeprev  \\\n",
       "219      (37.3, 40.2)  ...        (34.5, 36.7)              2.8   \n",
       "2100     (42.3, 44.7)  ...        (31.8, 33.6)              3.2   \n",
       "3946     (38.2, 40.8)  ...        (34.0, 35.9)              2.9   \n",
       "\n",
       "      kidney_crude95ci obesity_crudeprev  obesity_crude95ci phlth_crudeprev  \\\n",
       "219       ( 2.6,  3.0)              34.9       (33.4, 36.5)            15.0   \n",
       "2100      ( 3.1,  3.4)              41.3       (39.9, 42.6)            15.9   \n",
       "3946      ( 2.8,  3.1)              35.7       (34.2, 37.0)            15.3   \n",
       "\n",
       "      phlth_crude95ci stroke_crudeprev  stroke_crude95ci  \\\n",
       "219      (13.5, 16.6)              3.5      ( 3.1,  3.9)   \n",
       "2100     (14.5, 17.3)              4.3      ( 3.9,  4.7)   \n",
       "3946     (13.9, 16.8)              3.7      ( 3.4,  4.1)   \n",
       "\n",
       "                           geolocation  \n",
       "219   POINT (-86.49001486 32.47718251)  \n",
       "2100  POINT (-86.47338874 32.47425254)  \n",
       "3946   POINT (-86.4602024 32.47543618)  \n",
       "\n",
       "[3 rows x 33 columns]"
      ]
     },
     "execution_count": 36,
     "metadata": {},
     "output_type": "execute_result"
    }
   ],
   "source": [
    "health_outcomes_columns = health_outcomes.columns\n",
    "print(health_outcomes_columns)\n",
    "health_outcomes.sort_values(by=\"tractfips\", inplace=True)\n",
    "health_outcomes.head(3)\n"
   ]
  },
  {
   "cell_type": "code",
   "execution_count": 37,
   "id": "2f94f936",
   "metadata": {},
   "outputs": [
    {
     "name": "stdout",
     "output_type": "stream",
     "text": [
      "Index(['GEOID', 'median_income', 'percent_unemployed', 'percent_below_poverty',\n",
      "       'percent_unemployed.1', 'percent_bachelor_and_higher',\n",
      "       'percent_over_65', 'percent_commute_car', 'percent_commute_transit',\n",
      "       'percent_white', 'percent_black', 'percent_native_american',\n",
      "       'percent_asian', 'percent_pacific_islander'],\n",
      "      dtype='object')\n"
     ]
    },
    {
     "data": {
      "text/html": [
       "<div>\n",
       "<style scoped>\n",
       "    .dataframe tbody tr th:only-of-type {\n",
       "        vertical-align: middle;\n",
       "    }\n",
       "\n",
       "    .dataframe tbody tr th {\n",
       "        vertical-align: top;\n",
       "    }\n",
       "\n",
       "    .dataframe thead th {\n",
       "        text-align: right;\n",
       "    }\n",
       "</style>\n",
       "<table border=\"1\" class=\"dataframe\">\n",
       "  <thead>\n",
       "    <tr style=\"text-align: right;\">\n",
       "      <th></th>\n",
       "      <th>GEOID</th>\n",
       "      <th>median_income</th>\n",
       "      <th>percent_unemployed</th>\n",
       "      <th>percent_below_poverty</th>\n",
       "      <th>percent_unemployed.1</th>\n",
       "      <th>percent_bachelor_and_higher</th>\n",
       "      <th>percent_over_65</th>\n",
       "      <th>percent_commute_car</th>\n",
       "      <th>percent_commute_transit</th>\n",
       "      <th>percent_white</th>\n",
       "      <th>percent_black</th>\n",
       "      <th>percent_native_american</th>\n",
       "      <th>percent_asian</th>\n",
       "      <th>percent_pacific_islander</th>\n",
       "    </tr>\n",
       "  </thead>\n",
       "  <tbody>\n",
       "    <tr>\n",
       "      <th>0</th>\n",
       "      <td>1001020100</td>\n",
       "      <td>60208.0</td>\n",
       "      <td>2.857143</td>\n",
       "      <td>16.658304</td>\n",
       "      <td>2.857143</td>\n",
       "      <td>18.013046</td>\n",
       "      <td>13.246362</td>\n",
       "      <td>96.835443</td>\n",
       "      <td>0.000000</td>\n",
       "      <td>84.545911</td>\n",
       "      <td>7.626693</td>\n",
       "      <td>0.000000</td>\n",
       "      <td>0.100351</td>\n",
       "      <td>0.000000</td>\n",
       "    </tr>\n",
       "    <tr>\n",
       "      <th>1</th>\n",
       "      <td>1001020200</td>\n",
       "      <td>43958.0</td>\n",
       "      <td>4.365079</td>\n",
       "      <td>16.692190</td>\n",
       "      <td>4.365079</td>\n",
       "      <td>12.251149</td>\n",
       "      <td>14.497192</td>\n",
       "      <td>98.772169</td>\n",
       "      <td>0.000000</td>\n",
       "      <td>38.744257</td>\n",
       "      <td>57.018887</td>\n",
       "      <td>0.000000</td>\n",
       "      <td>0.000000</td>\n",
       "      <td>1.071975</td>\n",
       "    </tr>\n",
       "    <tr>\n",
       "      <th>2</th>\n",
       "      <td>1001020300</td>\n",
       "      <td>55345.0</td>\n",
       "      <td>3.519553</td>\n",
       "      <td>17.251212</td>\n",
       "      <td>3.519553</td>\n",
       "      <td>13.173653</td>\n",
       "      <td>16.025093</td>\n",
       "      <td>94.226328</td>\n",
       "      <td>0.000000</td>\n",
       "      <td>65.155403</td>\n",
       "      <td>24.436841</td>\n",
       "      <td>0.000000</td>\n",
       "      <td>0.912461</td>\n",
       "      <td>0.142572</td>\n",
       "    </tr>\n",
       "    <tr>\n",
       "      <th>3</th>\n",
       "      <td>1001020400</td>\n",
       "      <td>59663.0</td>\n",
       "      <td>3.198653</td>\n",
       "      <td>4.641568</td>\n",
       "      <td>3.198653</td>\n",
       "      <td>25.631769</td>\n",
       "      <td>24.471377</td>\n",
       "      <td>90.370813</td>\n",
       "      <td>2.990431</td>\n",
       "      <td>90.123775</td>\n",
       "      <td>5.569881</td>\n",
       "      <td>0.825168</td>\n",
       "      <td>0.283651</td>\n",
       "      <td>0.000000</td>\n",
       "    </tr>\n",
       "    <tr>\n",
       "      <th>4</th>\n",
       "      <td>1001020500</td>\n",
       "      <td>66108.0</td>\n",
       "      <td>3.117416</td>\n",
       "      <td>14.920725</td>\n",
       "      <td>3.117416</td>\n",
       "      <td>27.161193</td>\n",
       "      <td>13.807097</td>\n",
       "      <td>94.618088</td>\n",
       "      <td>1.701498</td>\n",
       "      <td>75.330313</td>\n",
       "      <td>18.204983</td>\n",
       "      <td>0.000000</td>\n",
       "      <td>3.633447</td>\n",
       "      <td>0.000000</td>\n",
       "    </tr>\n",
       "  </tbody>\n",
       "</table>\n",
       "</div>"
      ],
      "text/plain": [
       "        GEOID  median_income  percent_unemployed  percent_below_poverty  \\\n",
       "0  1001020100        60208.0            2.857143              16.658304   \n",
       "1  1001020200        43958.0            4.365079              16.692190   \n",
       "2  1001020300        55345.0            3.519553              17.251212   \n",
       "3  1001020400        59663.0            3.198653               4.641568   \n",
       "4  1001020500        66108.0            3.117416              14.920725   \n",
       "\n",
       "   percent_unemployed.1  percent_bachelor_and_higher  percent_over_65  \\\n",
       "0              2.857143                    18.013046        13.246362   \n",
       "1              4.365079                    12.251149        14.497192   \n",
       "2              3.519553                    13.173653        16.025093   \n",
       "3              3.198653                    25.631769        24.471377   \n",
       "4              3.117416                    27.161193        13.807097   \n",
       "\n",
       "   percent_commute_car  percent_commute_transit  percent_white  percent_black  \\\n",
       "0            96.835443                 0.000000      84.545911       7.626693   \n",
       "1            98.772169                 0.000000      38.744257      57.018887   \n",
       "2            94.226328                 0.000000      65.155403      24.436841   \n",
       "3            90.370813                 2.990431      90.123775       5.569881   \n",
       "4            94.618088                 1.701498      75.330313      18.204983   \n",
       "\n",
       "   percent_native_american  percent_asian  percent_pacific_islander  \n",
       "0                 0.000000       0.100351                  0.000000  \n",
       "1                 0.000000       0.000000                  1.071975  \n",
       "2                 0.000000       0.912461                  0.142572  \n",
       "3                 0.825168       0.283651                  0.000000  \n",
       "4                 0.000000       3.633447                  0.000000  "
      ]
     },
     "execution_count": 37,
     "metadata": {},
     "output_type": "execute_result"
    }
   ],
   "source": [
    "acs_columns = acs.columns\n",
    "print(acs_columns)\n",
    "acs.head()"
   ]
  },
  {
   "cell_type": "code",
   "execution_count": 38,
   "id": "8892457f",
   "metadata": {},
   "outputs": [],
   "source": [
    "# Rename GEOID columns for consistency\n",
    "\n",
    "nwi = nwi.rename(columns={\"TractID2019\": \"GEOID\"})\n",
    "health_outcomes = health_outcomes.rename(columns={\"tractfips\": \"GEOID\"})"
   ]
  },
  {
   "cell_type": "code",
   "execution_count": 39,
   "id": "37a1316e",
   "metadata": {},
   "outputs": [
    {
     "name": "stdout",
     "output_type": "stream",
     "text": [
      "<class 'pandas.core.frame.DataFrame'>\n",
      "RangeIndex: 74001 entries, 0 to 74000\n",
      "Data columns (total 1 columns):\n",
      " #   Column  Non-Null Count  Dtype\n",
      "---  ------  --------------  -----\n",
      " 0   GEOID   74001 non-null  int64\n",
      "dtypes: int64(1)\n",
      "memory usage: 578.3 KB\n",
      "\n",
      "<class 'pandas.core.frame.DataFrame'>\n",
      "RangeIndex: 72877 entries, 0 to 72876\n",
      "Data columns (total 1 columns):\n",
      " #   Column  Non-Null Count  Dtype\n",
      "---  ------  --------------  -----\n",
      " 0   GEOID   72877 non-null  int64\n",
      "dtypes: int64(1)\n",
      "memory usage: 569.5 KB\n",
      "\n",
      "<class 'pandas.core.frame.DataFrame'>\n",
      "Index: 72337 entries, 219 to 72289\n",
      "Data columns (total 1 columns):\n",
      " #   Column  Non-Null Count  Dtype\n",
      "---  ------  --------------  -----\n",
      " 0   GEOID   72337 non-null  int64\n",
      "dtypes: int64(1)\n",
      "memory usage: 1.1 MB\n"
     ]
    }
   ],
   "source": [
    "# Look at the info for the GEOID column in each data set\n",
    "\n",
    "nwi[[\"GEOID\"]].info()\n",
    "print()\n",
    "acs[[\"GEOID\"]].info()\n",
    "print()\n",
    "health_outcomes[[\"GEOID\"]].info()"
   ]
  },
  {
   "cell_type": "markdown",
   "id": "9e5689de",
   "metadata": {},
   "source": [
    "All three GEOID columns are true integers with no missings."
   ]
  },
  {
   "cell_type": "code",
   "execution_count": 40,
   "id": "4d07bdf0",
   "metadata": {},
   "outputs": [],
   "source": [
    "# Clean GEOID: make sure GEOID is string and has leading zeros if necessary\n",
    "\n",
    "nwi[\"GEOID\"] = nwi[\"GEOID\"].astype(str).str.zfill(11)\n",
    "health_outcomes[\"GEOID\"] = health_outcomes[\"GEOID\"].astype(str).str.zfill(11)\n",
    "acs[\"GEOID\"] = acs[\"GEOID\"].astype(str).str.zfill(11)"
   ]
  },
  {
   "cell_type": "code",
   "execution_count": 41,
   "id": "73a64de1",
   "metadata": {},
   "outputs": [
    {
     "name": "stdout",
     "output_type": "stream",
     "text": [
      "acs GEOID column's shape: (72877,)\n",
      "health_outcomes GEOID column's shape: (72337,)\n",
      "nwi GEOID column's shape: (74001,)\n"
     ]
    }
   ],
   "source": [
    "print(f\"acs GEOID column's shape: {acs[\"GEOID\"].shape}\")\n",
    "print(f\"health_outcomes GEOID column's shape: {health_outcomes[\"GEOID\"].shape}\")\n",
    "print(f\"nwi GEOID column's shape: {nwi[\"GEOID\"].shape}\")"
   ]
  },
  {
   "cell_type": "code",
   "execution_count": 42,
   "id": "0eecb1cc",
   "metadata": {},
   "outputs": [
    {
     "name": "stdout",
     "output_type": "stream",
     "text": [
      "Duplicate GEOID count in nwi: 0\n",
      "Duplicate GEOID count in acs: 0\n",
      "Duplicate GEOID count in health_outcomes: 0\n"
     ]
    }
   ],
   "source": [
    "# Counting the number of duplicated GEOID in each data set\n",
    "\n",
    "n_dups_nwi = nwi[\"GEOID\"].duplicated().sum()\n",
    "n_dups_acs = acs[\"GEOID\"].duplicated().sum()\n",
    "n_dups_health_outcomes = health_outcomes[\"GEOID\"].duplicated().sum()\n",
    "\n",
    "print(\"Duplicate GEOID count in nwi:\", n_dups_nwi)\n",
    "print(\"Duplicate GEOID count in acs:\", n_dups_acs)\n",
    "print(\"Duplicate GEOID count in health_outcomes:\", n_dups_health_outcomes)"
   ]
  },
  {
   "cell_type": "code",
   "execution_count": 43,
   "id": "93179581",
   "metadata": {},
   "outputs": [
    {
     "name": "stdout",
     "output_type": "stream",
     "text": [
      "Missing GEOID count in nwi: 0\n",
      "Missing GEOID count in acs: 0\n",
      "Missing GEOID count in health_outcomes: 0\n"
     ]
    }
   ],
   "source": [
    "# Counting the number of missing GEOID in each data set\n",
    "\n",
    "n_miss_nwi = nwi[\"GEOID\"].isna().sum()\n",
    "n_miss_acs = acs[\"GEOID\"].isna().sum()\n",
    "n_miss_health_outcomes = health_outcomes[\"GEOID\"].isna().sum()\n",
    "\n",
    "print(\"Missing GEOID count in nwi:\", n_miss_nwi)\n",
    "print(\"Missing GEOID count in acs:\", n_miss_acs)\n",
    "print(\"Missing GEOID count in health_outcomes:\", n_miss_health_outcomes)\n"
   ]
  },
  {
   "cell_type": "markdown",
   "id": "a6fc3e2f",
   "metadata": {},
   "source": [
    "We are ready to merge!"
   ]
  },
  {
   "cell_type": "code",
   "execution_count": 44,
   "id": "83d88aaf",
   "metadata": {},
   "outputs": [],
   "source": [
    "# Merging datasets on 'GEOID' column\n",
    "merged_df = nwi.merge(acs, on=\"GEOID\", how=\"inner\").merge(health_outcomes, on=\"GEOID\", how=\"inner\")"
   ]
  },
  {
   "cell_type": "code",
   "execution_count": 45,
   "id": "8908456a",
   "metadata": {},
   "outputs": [
    {
     "name": "stdout",
     "output_type": "stream",
     "text": [
      "Merged dataframe shape: (72157, 61)\n"
     ]
    }
   ],
   "source": [
    "# Check the shape of the merged dataframe\n",
    "print(f\"Merged dataframe shape: {merged_df.shape}\")"
   ]
  },
  {
   "cell_type": "code",
   "execution_count": 46,
   "id": "8159bc66",
   "metadata": {},
   "outputs": [],
   "source": [
    "#Save the merged dataframe to a CSV file\n",
    "merged_df.to_csv(\"merged_data.csv\", index=False)"
   ]
  },
  {
   "cell_type": "code",
   "execution_count": 47,
   "id": "1d579d46",
   "metadata": {},
   "outputs": [
    {
     "name": "stdout",
     "output_type": "stream",
     "text": [
      "columns: ['GEOID', 'TractID2010', 'StCoFIPS2019', 'StAbbr', 'NatWalkInd', 'Pop2018', 'HU2018', 'HH2018', 'D2A_EPHHM', 'D2B_E8MIXA', 'D3B', 'D4A', 'D2A_Ranked', 'D2B_Ranked', 'D3B_Ranked', 'D4A_Ranked', 'median_income', 'percent_unemployed', 'percent_below_poverty', 'percent_unemployed.1', 'percent_bachelor_and_higher', 'percent_over_65', 'percent_commute_car', 'percent_commute_transit', 'percent_white', 'percent_black', 'percent_native_american', 'percent_asian', 'percent_pacific_islander', 'countyfips', 'stateabbr', 'statedesc', 'countyname', 'totalpopulation', 'arthritis_crudeprev', 'arthritis_crude95ci', 'bphigh_crudeprev', 'bphigh_crude95ci', 'cancer_crudeprev', 'cancer_crude95ci', 'casthma_crudeprev', 'casthma_crude95ci', 'chd_crudeprev', 'chd_crude95ci', 'copd_crudeprev', 'copd_crude95ci', 'depression_crudeprev', 'depression_crude95ci', 'diabetes_crudeprev', 'diabetes_crude95ci', 'highchol_crudeprev', 'highchol_crude95ci', 'kidney_crudeprev', 'kidney_crude95ci', 'obesity_crudeprev', 'obesity_crude95ci', 'phlth_crudeprev', 'phlth_crude95ci', 'stroke_crudeprev', 'stroke_crude95ci', 'geolocation']\n",
      "         GEOID  TractID2010  StCoFIPS2019 StAbbr  NatWalkInd  Pop2018  HU2018  \\\n",
      "0  01001020100   1001020100          1001     AL    2.333333     1923     779   \n",
      "1  01001020200   1001020200          1001     AL    8.833333     2028     852   \n",
      "2  01001020300   1001020300          1001     AL    5.166667     3476    1397   \n",
      "3  01001020400   1001020400          1001     AL    6.666667     3831    1867   \n",
      "4  01001020500   1001020500          1001     AL    8.833333     9883    4488   \n",
      "\n",
      "   HH2018  D2A_EPHHM  D2B_E8MIXA  ...  highchol_crude95ci  kidney_crudeprev  \\\n",
      "0     765   0.189174    0.153064  ...        (34.5, 36.7)               2.8   \n",
      "1     719   0.803385    0.573766  ...        (31.8, 33.6)               3.2   \n",
      "2    1296   0.390436    0.537381  ...        (34.0, 35.9)               2.9   \n",
      "3    1639   0.417094    0.576805  ...        (36.6, 38.8)               2.9   \n",
      "4    4174   0.678792    0.712970  ...        (31.8, 33.8)               2.4   \n",
      "\n",
      "   kidney_crude95ci  obesity_crudeprev  obesity_crude95ci  phlth_crudeprev  \\\n",
      "0      ( 2.6,  3.0)               34.9       (33.4, 36.5)             15.0   \n",
      "1      ( 3.1,  3.4)               41.3       (39.9, 42.6)             15.9   \n",
      "2      ( 2.8,  3.1)               35.7       (34.2, 37.0)             15.3   \n",
      "3      ( 2.7,  3.1)               31.4       (29.8, 33.0)             13.0   \n",
      "4      ( 2.3,  2.6)               32.7       (31.1, 34.4)             12.1   \n",
      "\n",
      "   phlth_crude95ci  stroke_crudeprev  stroke_crude95ci  \\\n",
      "0     (13.5, 16.6)               3.5      ( 3.1,  3.9)   \n",
      "1     (14.5, 17.3)               4.3      ( 3.9,  4.7)   \n",
      "2     (13.9, 16.8)               3.7      ( 3.4,  4.1)   \n",
      "3     (11.6, 14.4)               3.4      ( 3.0,  3.9)   \n",
      "4     (10.8, 13.7)               2.8      ( 2.5,  3.2)   \n",
      "\n",
      "                        geolocation  \n",
      "0  POINT (-86.49001486 32.47718251)  \n",
      "1  POINT (-86.47338874 32.47425254)  \n",
      "2   POINT (-86.4602024 32.47543618)  \n",
      "3  POINT (-86.44370417 32.47203959)  \n",
      "4  POINT (-86.42271039 32.45891625)  \n",
      "\n",
      "[5 rows x 61 columns]\n"
     ]
    }
   ],
   "source": [
    "print(\"columns:\", merged_df.columns.tolist())\n",
    "print(merged_df.head(5))"
   ]
  },
  {
   "cell_type": "code",
   "execution_count": 48,
   "id": "f03db699",
   "metadata": {},
   "outputs": [
    {
     "name": "stdout",
     "output_type": "stream",
     "text": [
      "cancer_crudeprev               0.027703\n",
      "copd_crudeprev                 0.027703\n",
      "chd_crudeprev                  0.027703\n",
      "casthma_crude95ci              0.027703\n",
      "casthma_crudeprev              0.027703\n",
      "arthritis_crudeprev            0.027703\n",
      "arthritis_crude95ci            0.027703\n",
      "cancer_crude95ci               0.027703\n",
      "bphigh_crudeprev               0.027703\n",
      "bphigh_crude95ci               0.027703\n",
      "copd_crude95ci                 0.027703\n",
      "depression_crudeprev           0.027703\n",
      "depression_crude95ci           0.027703\n",
      "diabetes_crudeprev             0.027703\n",
      "diabetes_crude95ci             0.027703\n",
      "highchol_crudeprev             0.027703\n",
      "highchol_crude95ci             0.027703\n",
      "kidney_crudeprev               0.027703\n",
      "kidney_crude95ci               0.027703\n",
      "obesity_crudeprev              0.027703\n",
      "obesity_crude95ci              0.027703\n",
      "phlth_crudeprev                0.027703\n",
      "phlth_crude95ci                0.027703\n",
      "stroke_crudeprev               0.027703\n",
      "stroke_crude95ci               0.027703\n",
      "chd_crude95ci                  0.027703\n",
      "percent_unemployed.1           0.001427\n",
      "percent_unemployed             0.001427\n",
      "percent_commute_transit        0.001372\n",
      "percent_commute_car            0.001372\n",
      "percent_asian                  0.000152\n",
      "percent_pacific_islander       0.000152\n",
      "percent_native_american        0.000152\n",
      "percent_black                  0.000152\n",
      "percent_white                  0.000152\n",
      "percent_over_65                0.000152\n",
      "percent_bachelor_and_higher    0.000152\n",
      "percent_below_poverty          0.000152\n",
      "GEOID                          0.000000\n",
      "stateabbr                      0.000000\n",
      "totalpopulation                0.000000\n",
      "D3B                            0.000000\n",
      "StCoFIPS2019                   0.000000\n",
      "StAbbr                         0.000000\n",
      "NatWalkInd                     0.000000\n",
      "Pop2018                        0.000000\n",
      "HU2018                         0.000000\n",
      "HH2018                         0.000000\n",
      "D2A_EPHHM                      0.000000\n",
      "D2B_E8MIXA                     0.000000\n",
      "dtype: float64\n"
     ]
    }
   ],
   "source": [
    "# check for missing values\n",
    "print(merged_df.isna().mean().sort_values(ascending=False).head(50))"
   ]
  },
  {
   "cell_type": "code",
   "execution_count": 49,
   "id": "adc98eee",
   "metadata": {},
   "outputs": [
    {
     "name": "stdout",
     "output_type": "stream",
     "text": [
      "Total tracts: 72,157\n",
      "Missing GEOID counts: 0\n",
      "Duplicate GEOID counts: 0\n",
      "GEOID lengths: [11 11 11 ... 11 11 11]\n"
     ]
    }
   ],
   "source": [
    "# Check the number of unique tracts in the merged dataframe\n",
    "print(f\"Total tracts: {len(merged_df):,}\")\n",
    "\n",
    "# Check for missing GEOID values\n",
    "print(f\"Missing GEOID counts: {merged_df['GEOID'].isna().sum()}\")\n",
    "\n",
    "# Check for duplicate GEOID values\n",
    "print(f\"Duplicate GEOID counts: {merged_df['GEOID'].duplicated().sum()}\")\n",
    "\n",
    "# Check for the GEOID lengths (should be 11 for all)\n",
    "print(f\"GEOID lengths: {merged_df['GEOID'].str.len().values}\")"
   ]
  },
  {
   "cell_type": "code",
   "execution_count": 50,
   "id": "18d7178a",
   "metadata": {},
   "outputs": [
    {
     "name": "stdout",
     "output_type": "stream",
     "text": [
      "nwi tracts: 74001\n",
      "acs tracts: 72877\n",
      "health_outcomes tracts: 72337\n",
      "Common tracts in all three datasets: 72157\n"
     ]
    }
   ],
   "source": [
    "print(\"nwi tracts:\", len(nwi[\"GEOID\"].unique()))\n",
    "print(\"acs tracts:\", len(acs[\"GEOID\"].unique()))\n",
    "print(\"health_outcomes tracts:\", len(health_outcomes[\"GEOID\"].unique()))\n",
    "\n",
    "# Check the number of commmon tracts in all three datasets\n",
    "common_tracts = set(nwi[\"GEOID\"]) & set(acs[\"GEOID\"]) & set(health_outcomes[\"GEOID\"])\n",
    "print(f\"Common tracts in all three datasets: {len(common_tracts)}\")"
   ]
  },
  {
   "cell_type": "code",
   "execution_count": 51,
   "id": "61bdca0c",
   "metadata": {},
   "outputs": [
    {
     "name": "stdout",
     "output_type": "stream",
     "text": [
      "<class 'pandas.core.frame.DataFrame'>\n",
      "RangeIndex: 72157 entries, 0 to 72156\n",
      "Data columns (total 61 columns):\n",
      " #   Column                       Non-Null Count  Dtype  \n",
      "---  ------                       --------------  -----  \n",
      " 0   GEOID                        72157 non-null  object \n",
      " 1   TractID2010                  72157 non-null  int64  \n",
      " 2   StCoFIPS2019                 72157 non-null  int64  \n",
      " 3   StAbbr                       72157 non-null  object \n",
      " 4   NatWalkInd                   72157 non-null  float64\n",
      " 5   Pop2018                      72157 non-null  int64  \n",
      " 6   HU2018                       72157 non-null  int64  \n",
      " 7   HH2018                       72157 non-null  int64  \n",
      " 8   D2A_EPHHM                    72157 non-null  float64\n",
      " 9   D2B_E8MIXA                   72157 non-null  float64\n",
      " 10  D3B                          72157 non-null  float64\n",
      " 11  D4A                          72157 non-null  float64\n",
      " 12  D2A_Ranked                   72157 non-null  int64  \n",
      " 13  D2B_Ranked                   72157 non-null  int64  \n",
      " 14  D3B_Ranked                   72157 non-null  int64  \n",
      " 15  D4A_Ranked                   72157 non-null  int64  \n",
      " 16  median_income                72157 non-null  float64\n",
      " 17  percent_unemployed           72054 non-null  float64\n",
      " 18  percent_below_poverty        72146 non-null  float64\n",
      " 19  percent_unemployed.1         72054 non-null  float64\n",
      " 20  percent_bachelor_and_higher  72146 non-null  float64\n",
      " 21  percent_over_65              72146 non-null  float64\n",
      " 22  percent_commute_car          72058 non-null  float64\n",
      " 23  percent_commute_transit      72058 non-null  float64\n",
      " 24  percent_white                72146 non-null  float64\n",
      " 25  percent_black                72146 non-null  float64\n",
      " 26  percent_native_american      72146 non-null  float64\n",
      " 27  percent_asian                72146 non-null  float64\n",
      " 28  percent_pacific_islander     72146 non-null  float64\n",
      " 29  countyfips                   72157 non-null  int64  \n",
      " 30  stateabbr                    72157 non-null  object \n",
      " 31  statedesc                    72157 non-null  object \n",
      " 32  countyname                   72157 non-null  object \n",
      " 33  totalpopulation              72157 non-null  int64  \n",
      " 34  arthritis_crudeprev          70158 non-null  float64\n",
      " 35  arthritis_crude95ci          70158 non-null  object \n",
      " 36  bphigh_crudeprev             70158 non-null  float64\n",
      " 37  bphigh_crude95ci             70158 non-null  object \n",
      " 38  cancer_crudeprev             70158 non-null  float64\n",
      " 39  cancer_crude95ci             70158 non-null  object \n",
      " 40  casthma_crudeprev            70158 non-null  float64\n",
      " 41  casthma_crude95ci            70158 non-null  object \n",
      " 42  chd_crudeprev                70158 non-null  float64\n",
      " 43  chd_crude95ci                70158 non-null  object \n",
      " 44  copd_crudeprev               70158 non-null  float64\n",
      " 45  copd_crude95ci               70158 non-null  object \n",
      " 46  depression_crudeprev         70158 non-null  float64\n",
      " 47  depression_crude95ci         70158 non-null  object \n",
      " 48  diabetes_crudeprev           70158 non-null  float64\n",
      " 49  diabetes_crude95ci           70158 non-null  object \n",
      " 50  highchol_crudeprev           70158 non-null  float64\n",
      " 51  highchol_crude95ci           70158 non-null  object \n",
      " 52  kidney_crudeprev             70158 non-null  float64\n",
      " 53  kidney_crude95ci             70158 non-null  object \n",
      " 54  obesity_crudeprev            70158 non-null  float64\n",
      " 55  obesity_crude95ci            70158 non-null  object \n",
      " 56  phlth_crudeprev              70158 non-null  float64\n",
      " 57  phlth_crude95ci              70158 non-null  object \n",
      " 58  stroke_crudeprev             70158 non-null  float64\n",
      " 59  stroke_crude95ci             70158 non-null  object \n",
      " 60  geolocation                  72157 non-null  object \n",
      "dtypes: float64(31), int64(11), object(19)\n",
      "memory usage: 33.6+ MB\n"
     ]
    }
   ],
   "source": [
    "merged_df.info()"
   ]
  },
  {
   "cell_type": "code",
   "execution_count": 52,
   "id": "8ea0eeb5",
   "metadata": {},
   "outputs": [
    {
     "name": "stdout",
     "output_type": "stream",
     "text": [
      "percent_pacific_islander       60740\n",
      "percent_native_american        35570\n",
      "percent_commute_transit        23216\n",
      "percent_asian                  13606\n",
      "percent_black                   5416\n",
      "percent_unemployed               522\n",
      "percent_unemployed.1             522\n",
      "percent_below_poverty            248\n",
      "percent_over_65                  226\n",
      "D4A                              224\n",
      "D2B_E8MIXA                       187\n",
      "HH2018                           175\n",
      "HU2018                           167\n",
      "percent_white                     79\n",
      "D2A_EPHHM                         65\n",
      "percent_bachelor_and_higher       60\n",
      "D3B                               58\n",
      "percent_commute_car               23\n",
      "Pop2018                           12\n",
      "dtype: int64\n"
     ]
    }
   ],
   "source": [
    "pd.set_option('display.max_rows', None)\n",
    "zero_counts = (merged_df == 0).sum()\n",
    "zero_counts = zero_counts[zero_counts > 0].sort_values(ascending=False)\n",
    "print(zero_counts)"
   ]
  },
  {
   "cell_type": "markdown",
   "id": "ceb489a0",
   "metadata": {},
   "source": [
    "We have quite a few zero valued cells."
   ]
  },
  {
   "cell_type": "code",
   "execution_count": 53,
   "id": "f6c7c50e",
   "metadata": {},
   "outputs": [
    {
     "name": "stdout",
     "output_type": "stream",
     "text": [
      "D4A    36989\n",
      "dtype: int64\n"
     ]
    }
   ],
   "source": [
    "pd.set_option('display.max_rows', None)\n",
    "weird_counts = (merged_df == -99999).sum()\n",
    "weird_counts = weird_counts[weird_counts > 0].sort_values(ascending=False)\n",
    "print(weird_counts)"
   ]
  },
  {
   "cell_type": "markdown",
   "id": "a298acba",
   "metadata": {},
   "source": [
    "Half the D4A rows have a value of -99999. I am not quite sure what that means."
   ]
  },
  {
   "cell_type": "markdown",
   "id": "616ef942",
   "metadata": {},
   "source": []
  }
 ],
 "metadata": {
  "kernelspec": {
   "display_name": "erdos_ds_environment",
   "language": "python",
   "name": "python3"
  },
  "language_info": {
   "codemirror_mode": {
    "name": "ipython",
    "version": 3
   },
   "file_extension": ".py",
   "mimetype": "text/x-python",
   "name": "python",
   "nbconvert_exporter": "python",
   "pygments_lexer": "ipython3",
   "version": "3.12.11"
  }
 },
 "nbformat": 4,
 "nbformat_minor": 5
}
